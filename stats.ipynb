{
 "cells": [
  {
   "cell_type": "code",
   "execution_count": 2,
   "metadata": {},
   "outputs": [],
   "source": [
    "import pandas as pd\n",
    "from app.utils.subgraph import KlerosBoardSubgraph\n",
    "from plotly import graph_objects as go\n"
   ]
  },
  {
   "cell_type": "code",
   "execution_count": null,
   "metadata": {},
   "outputs": [],
   "source": [
    "%load_ext autoreload\n",
    "%autoreload 2"
   ]
  },
  {
   "cell_type": "code",
   "execution_count": null,
   "metadata": {},
   "outputs": [],
   "source": [
    "kb_eth = KlerosBoardSubgraph(network='mainnet')\n",
    "kb_gno = KlerosBoardSubgraph(network='gnosis')\n",
    "eth_color = dict(color='#7F00FF')\n",
    "gno_color = dict(color='#009BFF')"
   ]
  },
  {
   "cell_type": "code",
   "execution_count": null,
   "metadata": {},
   "outputs": [],
   "source": [
    "stakes_eth = kb_eth.getAllStakeSets()\n",
    "stakes_gno = kb_gno.getAllStakeSets()"
   ]
  },
  {
   "cell_type": "code",
   "execution_count": null,
   "metadata": {},
   "outputs": [],
   "source": [
    "df_stakes_eth = pd.DataFrame(stakes_eth)\n",
    "df_stakes_gno = pd.DataFrame(stakes_gno)"
   ]
  },
  {
   "cell_type": "code",
   "execution_count": null,
   "metadata": {},
   "outputs": [],
   "source": [
    "# PNK staked history\n",
    "from datetime import datetime\n",
    "from app.utils.utils import getTimeSeriePNKStaked\n",
    "\n",
    "\n",
    "pnk_staked_eth = getTimeSeriePNKStaked(df_stakes_eth)\n",
    "pnk_staked_gno = getTimeSeriePNKStaked(df_stakes_gno)\n",
    "\n",
    "\n",
    "\n",
    "total_supply = 776626704\n",
    "pnk_staked_eth['total_supply'] = 776626704\n",
    "pnk_staked_eth.loc[pnk_staked_eth.index < datetime(year=2024,month=1,day=20), 'total_supply'] -= 12000000  # mint kip66\n",
    "pnk_staked_eth.loc[pnk_staked_eth.index < datetime(year=2019,month=12,day=30), 'total_supply'] -= 200000000  # mint second token sale\n",
    "\n",
    "pnk_staked_eth['percentage'] = pnk_staked_eth['total_staked'] / pnk_staked_eth['total_supply']\n",
    "pnk_staked_gno['percentage'] = pnk_staked_gno['total_staked'] / pnk_staked_eth['total_supply']\n"
   ]
  },
  {
   "cell_type": "code",
   "execution_count": null,
   "metadata": {},
   "outputs": [],
   "source": [
    "df = pd.merge_asof(\n",
    "    left=pnk_staked_eth, right=pnk_staked_gno,\n",
    "    left_index=True, right_index=True,\n",
    "    suffixes=['', '_gno'],\n",
    ")\n",
    "\n",
    "# pnk_staked_eth2 = pnk_staked_eth.assign(type='eth')\n",
    "# pnk_staked_gno2 = pnk_staked_gno.assign(type='gno')\n",
    "# df_staked = pd.concat([pnk_staked_eth2, pnk_staked_gno2], axis=0).sort_index()\n",
    "# print(df_staked.to_string())\n",
    "# print(df.iloc[-7])\n",
    "\n",
    "# stacked_df = df.stack()\n",
    "# print(stacked_df)\n",
    "\n",
    "fig = go.Figure(data=[\n",
    "    go.Bar(x=df.index, y=df['percentage'] * 100,\n",
    "           name=\"Ethereum\", offsetgroup='a', marker=eth_color),\n",
    "    go.Bar(x=df.index, y=df['percentage_gno'] * 100, name=\"Gnosis\",\n",
    "           offsetgroup='a', base=df['percentage'] * 100, marker=gno_color),\n",
    "]\n",
    ")\n",
    "fig.update_layout(\n",
    "    xaxis=dict(showgrid=False),\n",
    "    yaxis=dict(showgrid=False, range=[0, 30]),\n",
    "    title=dict(text=\"% PNK staked over Total Supply\")\n",
    ")\n",
    "fig.show()"
   ]
  },
  {
   "cell_type": "code",
   "execution_count": null,
   "metadata": {},
   "outputs": [],
   "source": [
    "from app.utils.utils import getTimeSerieActiveJurors\n",
    "\n",
    "active_jurors_eth: pd.DataFrame = getTimeSerieActiveJurors(df_stakes_eth)\n",
    "active_jurors_gno: pd.DataFrame = getTimeSerieActiveJurors(df_stakes_gno)\n"
   ]
  },
  {
   "cell_type": "code",
   "execution_count": null,
   "metadata": {},
   "outputs": [],
   "source": [
    "print(f'Active Jurors:\\nMainnet:{active_jurors_eth.iloc[-1].values[0]}\\nGnosis:{active_jurors_gno.iloc[-1].values[0]}')"
   ]
  },
  {
   "cell_type": "code",
   "execution_count": null,
   "metadata": {},
   "outputs": [],
   "source": [
    "\n",
    "\n",
    "fig = go.Figure(data=[\n",
    "    go.Scatter(x=active_jurors_eth.index, y=active_jurors_eth['active_jurors'], mode=\"lines\", name=\"Ethereum\", marker=eth_color),\n",
    "    go.Scatter(x=active_jurors_gno.index, y=active_jurors_gno['active_jurors'], mode=\"lines\", name=\"Gnosis\", marker=gno_color),\n",
    "    ]\n",
    "    )\n",
    "fig.update_layout(\n",
    "     xaxis=dict(showgrid=False), \n",
    "     yaxis=dict(showgrid=False),\n",
    "     title=dict(text=\"Daily Active Jurors\")\n",
    ")\n",
    "fig.show()\n"
   ]
  },
  {
   "cell_type": "code",
   "execution_count": null,
   "metadata": {},
   "outputs": [],
   "source": [
    "growth_eth = active_jurors_eth.diff()\n",
    "growth_gno = active_jurors_gno.diff()\n",
    "\n",
    "growth_eth = growth_eth.resample('M').sum()\n",
    "growth_gno = growth_gno.resample('M').sum()\n",
    "\n",
    "fig = go.Figure(data=[\n",
    "    go.Bar(x=growth_eth.index, y=growth_eth['active_jurors'], name=\"Ethereum\", marker=dict(color='#7F00FF')),\n",
    "    go.Bar(x=growth_gno.index, y=growth_gno['active_jurors'], name=\"Gnosis\", marker=dict(color='#009BFF')),\n",
    "    ]\n",
    "    )\n",
    "fig.update_layout(\n",
    "     xaxis=dict(showgrid=False), \n",
    "     yaxis=dict(showgrid=False),\n",
    "     title=dict(text=\"Monthly Active Jurors Growth\")\n",
    ")\n",
    "fig.add_hline(y=0)\n",
    "fig.show()\n"
   ]
  },
  {
   "cell_type": "code",
   "execution_count": null,
   "metadata": {},
   "outputs": [],
   "source": [
    "# Staked amount of PNKs over history\n"
   ]
  },
  {
   "cell_type": "code",
   "execution_count": null,
   "metadata": {},
   "outputs": [],
   "source": [
    "txs_eth = kb_eth.getAllTransactions()\n",
    "txs_gno = kb_gno.getAllTransactions()\n"
   ]
  },
  {
   "cell_type": "code",
   "execution_count": null,
   "metadata": {},
   "outputs": [],
   "source": [
    "daily_txs_eth = txs_eth.resample('M', on='timestamp').count()\n",
    "daily_txs_gno = txs_gno.resample('M', on='timestamp').count()\n",
    "\n",
    "\n",
    "fig = go.Figure(data=[\n",
    "    go.Bar(x=daily_txs_eth.index, y=daily_txs_eth['tx'], name=\"Ethereum\", marker=eth_color),\n",
    "    go.Bar(x=daily_txs_gno.index, y=daily_txs_gno['tx'], name=\"Gnosis\", marker=gno_color),\n",
    "    ]\n",
    "    )\n",
    "fig.update_layout(\n",
    "     xaxis=dict(showgrid=False), \n",
    "     yaxis=dict(showgrid=False),\n",
    "     title=dict(text=\"Monthly txs in Kleros Courts\")\n",
    ")\n",
    "fig.add_hline(y=0)\n",
    "fig.show()"
   ]
  },
  {
   "cell_type": "code",
   "execution_count": null,
   "metadata": {},
   "outputs": [],
   "source": [
    "token_txs_eth = kb_eth.getAllTransfers()\n",
    "token_txs_gno = kb_gno.getAllTransfers()"
   ]
  },
  {
   "cell_type": "code",
   "execution_count": null,
   "metadata": {},
   "outputs": [],
   "source": [
    "transfers_eth = pd.DataFrame(token_txs_eth)\n",
    "transfers_gno = pd.DataFrame(token_txs_gno)\n",
    "\n",
    "transfers_eth['timestamp'] = pd.to_datetime(transfers_eth.timestamp, unit='s')\n",
    "transfers_gno['timestamp'] = pd.to_datetime(transfers_gno.timestamp, unit='s')\n",
    "transfers_eth.sort_values('timestamp', inplace=True)\n",
    "transfers_gno.sort_values('timestamp', inplace=True)\n"
   ]
  },
  {
   "cell_type": "code",
   "execution_count": null,
   "metadata": {},
   "outputs": [],
   "source": [
    "# Get ETH price\n",
    "from app.utils.oracles import CoinGecko\n",
    "from datetime import datetime, timedelta\n",
    "\n",
    "days_before = (datetime.now() - transfers_eth.timestamp.min()).days\n",
    "eth_price = CoinGecko().getETHhistoricPrice(days_before)\n",
    "eth_price = pd.DataFrame(eth_price, columns=['timestamp', 'price'])\n",
    "eth_price['timestamp'] = pd.to_datetime(eth_price['timestamp'], unit='ms')\n"
   ]
  },
  {
   "cell_type": "code",
   "execution_count": null,
   "metadata": {},
   "outputs": [],
   "source": [
    "\n",
    "transfers_eth_price = pd.merge_asof(\n",
    "    left=transfers_eth, right=eth_price,\n",
    "    on='timestamp', direction='forward', tolerance=timedelta(hours=23)\n",
    "    )\n",
    "transfers_eth_price['ETHAmount_usd'] = transfers_eth_price['ETHAmount'] * transfers_eth_price['price']"
   ]
  },
  {
   "cell_type": "code",
   "execution_count": null,
   "metadata": {},
   "outputs": [],
   "source": [
    "\n",
    "transfers_eth_resampled = transfers_eth_price.resample('M', on='timestamp')['ETHAmount_usd'].sum()\n",
    "transfers_gno_resampled = transfers_gno.resample('M', on='timestamp')['ETHAmount'].sum()"
   ]
  },
  {
   "cell_type": "code",
   "execution_count": null,
   "metadata": {},
   "outputs": [],
   "source": [
    "fig = go.Figure(data=[\n",
    "    go.Bar(x=transfers_eth_resampled.index, y=transfers_eth_resampled, name=\"Ethereum\", marker=eth_color),\n",
    "    go.Bar(x=transfers_gno_resampled.index, y=transfers_gno_resampled, name=\"Gnosis\", marker=gno_color),\n",
    "    ]\n",
    "    )\n",
    "fig.update_layout(\n",
    "     xaxis=dict(showgrid=False), \n",
    "     yaxis=dict(showgrid=False),\n",
    "     title=dict(text=\"Monthly Fees payed to jurors [USD]\")\n",
    ")\n",
    "fig.add_hline(y=0)\n",
    "fig.show()\n",
    "\n",
    "\n",
    "fig = go.Figure(data=[\n",
    "    go.Scatter(x=transfers_eth_resampled.index, y=transfers_eth_resampled.cumsum(), name=\"Ethereum\", mode='lines', marker=eth_color),\n",
    "    go.Scatter(x=transfers_gno_resampled.index, y=transfers_gno_resampled.cumsum(), name=\"Gnosis\", mode='lines', marker=gno_color),\n",
    "    ]\n",
    "    )\n",
    "fig.update_layout(\n",
    "     xaxis=dict(showgrid=False), \n",
    "     yaxis=dict(showgrid=False),\n",
    "     title=dict(text=\"Cumulative Fees payed to jurors [USD]\")\n",
    ")\n",
    "fig.add_hline(y=0)\n",
    "fig.show()"
   ]
  },
  {
   "cell_type": "code",
   "execution_count": null,
   "metadata": {},
   "outputs": [],
   "source": [
    "jurors_eth = pd.DataFrame(kb_eth.getAllJurors())\n",
    "jurors_gno = pd.DataFrame(kb_gno.getAllJurors())"
   ]
  },
  {
   "cell_type": "code",
   "execution_count": null,
   "metadata": {},
   "outputs": [],
   "source": [
    "jurors_eth = jurors_eth[jurors_eth.ethRewards > 0][['totalStaked', 'id', 'ethRewards', 'numberOfDisputesAsJuror']]\n",
    "jurors_gno = jurors_gno[jurors_gno.ethRewards > 0][['totalStaked', 'id', 'ethRewards', 'numberOfDisputesAsJuror']]\n"
   ]
  },
  {
   "cell_type": "code",
   "execution_count": null,
   "metadata": {},
   "outputs": [],
   "source": [
    "from app.utils.utils import gini\n",
    "\n",
    "\n",
    "gini_eth = gini(jurors_eth['ethRewards'], jurors_eth['totalStaked'])\n",
    "gini_gno = gini(jurors_gno['ethRewards'], jurors_gno['totalStaked'])\n",
    "\n",
    "print(f'Gini Ethereum Court: {gini_eth}\\nGini Gnosis Court: {gini_gno}')"
   ]
  },
  {
   "cell_type": "code",
   "execution_count": null,
   "metadata": {},
   "outputs": [],
   "source": [
    "from app.utils.utils import getActiveJurors\n",
    "\n",
    "\n",
    "jurors_eth = getActiveJurors(df_stakes_eth)\n",
    "jurors_gno = getActiveJurors(df_stakes_gno)\n",
    "jurors_eth.reset_index(inplace=True)\n",
    "jurors_gno.reset_index(inplace=True)\n",
    "jurors = pd.concat([jurors_eth, jurors_gno],axis=0)\n",
    "jurors = jurors[jurors['newTotalStake'] > 10000]\n",
    "\n",
    "jurors.drop_duplicates(subset='address', inplace=True)\n",
    "jurors.reset_index(inplace=True, drop=True)\n",
    "jurors.to_csv('active_jurors_gt_10k.csv')"
   ]
  },
  {
   "cell_type": "code",
   "execution_count": null,
   "metadata": {},
   "outputs": [],
   "source": [
    "# Disputes opened\n",
    "all_disputes_eth = kb_eth.getAllDisputes()\n",
    "all_disputes_gno = kb_gno.getAllDisputes()\n",
    "\n",
    "df_disputes_eth = pd.DataFrame(all_disputes_eth)\n",
    "df_disputes_gno = pd.DataFrame(all_disputes_gno)\n",
    "df_disputes_eth['startTime'] = pd.to_datetime(df_disputes_eth['startTime'], unit='s')\n",
    "df_disputes_gno['startTime'] = pd.to_datetime(df_disputes_gno['startTime'], unit='s')\n",
    "df_disputes_eth.sort_values('startTime', ascending=True, inplace=True)\n",
    "df_disputes_gno.sort_values('startTime', ascending=True, inplace=True)\n"
   ]
  },
  {
   "cell_type": "code",
   "execution_count": null,
   "metadata": {},
   "outputs": [],
   "source": [
    "disputes_resampled_eth = df_disputes_eth[['id', 'startTime']].resample('M', on='startTime').count()\n",
    "disputes_resampled_gno = df_disputes_gno[['id', 'startTime']].resample('M', on='startTime').count()\n",
    "\n",
    "fig = go.Figure(data=[\n",
    "    go.Bar(x=disputes_resampled_eth.index, y=disputes_resampled_eth.id, name=\"Ethereum\", marker=eth_color),\n",
    "    go.Bar(x=disputes_resampled_gno.index, y=disputes_resampled_gno.id, name=\"Gnosis\",  marker=gno_color),\n",
    "    ]\n",
    "    )\n",
    "fig.update_layout(\n",
    "     xaxis=dict(showgrid=False), \n",
    "     yaxis=dict(showgrid=False),\n",
    "     title=dict(text=\"Monthly Disputes Creation\")\n",
    ")\n",
    "fig.add_hline(y=0)\n",
    "fig.show()"
   ]
  }
 ],
 "metadata": {
  "kernelspec": {
   "display_name": ".venv",
   "language": "python",
   "name": "python3"
  },
  "language_info": {
   "codemirror_mode": {
    "name": "ipython",
    "version": 3
   },
   "file_extension": ".py",
   "mimetype": "text/x-python",
   "name": "python",
   "nbconvert_exporter": "python",
   "pygments_lexer": "ipython3",
   "version": "3.8.18"
  },
  "voila": {
   "theme": "dark"
  }
 },
 "nbformat": 4,
 "nbformat_minor": 2
}
