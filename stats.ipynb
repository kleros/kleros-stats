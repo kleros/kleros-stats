{
 "cells": [
  {
   "cell_type": "code",
   "execution_count": null,
   "metadata": {},
   "outputs": [],
   "source": [
    "import pandas as pd\n",
    "from app.utils.subgraph import KlerosBoardSubgraph\n",
    "from plotly import graph_objects as go\n"
   ]
  },
  {
   "cell_type": "code",
   "execution_count": null,
   "metadata": {},
   "outputs": [],
   "source": [
    "# uncomment this if you are modifying the utils and want an automatic reload.\n",
    "# %load_ext autoreload\n",
    "# %autoreload 2"
   ]
  },
  {
   "cell_type": "code",
   "execution_count": null,
   "metadata": {},
   "outputs": [],
   "source": [
    "# Colors for the graphs.\n",
    "eth_color = dict(color='#7F00FF')\n",
    "gno_color = dict(color='#009BFF')"
   ]
  },
  {
   "cell_type": "code",
   "execution_count": null,
   "metadata": {},
   "outputs": [],
   "source": [
    "from app.utils.utils import getTimeSeriePNKStakedPercentage\n",
    "\n",
    "\n",
    "df: pd.DataFrame = getTimeSeriePNKStakedPercentage('1', 'M')\n",
    "df_gno: pd.DataFrame = getTimeSeriePNKStakedPercentage('100', 'M')\n"
   ]
  },
  {
   "cell_type": "code",
   "execution_count": null,
   "metadata": {},
   "outputs": [],
   "source": [
    "fig = go.Figure(data=[\n",
    "    go.Bar(x=df.index, y=df['total_supply'],\n",
    "           name=\"Ethereum\", offsetgroup='a', marker=eth_color),\n",
    "    go.Bar(x=df_gno.index, y=df_gno['total_supply'],\n",
    "           name=\"Gnosis\", offsetgroup='a', marker=gno_color),\n",
    "]\n",
    ")\n",
    "fig.update_layout(\n",
    "    xaxis=dict(showgrid=False),\n",
    "    yaxis=dict(showgrid=False),\n",
    "    title=dict(text=\"% PNK staked over Total Supply\")\n",
    ")\n",
    "fig.show()"
   ]
  },
  {
   "cell_type": "code",
   "execution_count": null,
   "metadata": {},
   "outputs": [],
   "source": [
    "kb_eth = KlerosBoardSubgraph(network='mainnet')\n",
    "kb_gno = KlerosBoardSubgraph(network='gnosis')\n",
    "eth_color = dict(color='#7F00FF')\n",
    "gno_color = dict(color='#009BFF')"
   ]
  },
  {
   "cell_type": "markdown",
   "metadata": {},
   "source": [
    "## PNK Staked"
   ]
  },
  {
   "cell_type": "code",
   "execution_count": null,
   "metadata": {},
   "outputs": [],
   "source": [
    "stakes_eth = kb_eth.getAllStakeSets()\n",
    "stakes_gno = kb_gno.getAllStakeSets()"
   ]
  },
  {
   "cell_type": "code",
   "execution_count": null,
   "metadata": {},
   "outputs": [],
   "source": [
    "df_stakes_eth = pd.DataFrame(stakes_eth)\n",
    "df_stakes_gno = pd.DataFrame(stakes_gno)"
   ]
  },
  {
   "cell_type": "code",
   "execution_count": null,
   "metadata": {},
   "outputs": [],
   "source": [
    "# PNK staked history\n",
    "from datetime import datetime\n",
    "from app.utils.utils import getTimeSeriePNKStakedPercentage\n",
    "\n",
    "pnk_staked_eth = getTimeSeriePNKStakedPercentage('mainnet', 'M')\n",
    "pnk_staked_gno = getTimeSeriePNKStakedPercentage('gnosis', 'M')\n",
    "\n"
   ]
  },
  {
   "cell_type": "code",
   "execution_count": 121,
   "metadata": {},
   "outputs": [
    {
     "name": "stdout",
     "output_type": "stream",
     "text": [
      "2018-03-31    180000000.0\n",
      "2018-04-30    181000000.0\n",
      "2018-05-31    326000000.0\n",
      "2018-06-30    326000000.0\n",
      "2018-07-31    329616704.0\n",
      "                 ...     \n",
      "2023-10-31    764626704.0\n",
      "2023-11-30    764626704.0\n",
      "2023-12-31    764626704.0\n",
      "2024-01-31    764626704.0\n",
      "2024-02-29    776626704.0\n",
      "Freq: M, Name: total_supply, Length: 72, dtype: float64\n"
     ]
    }
   ],
   "source": [
    "from app.utils.utils import getTotalSupplyTimeSerie\n",
    "\n",
    "freq = 'M'\n",
    "# pnk_staked: pd.DataFrame = getTimeSeriePNKStaked('gnosis', freq)\n",
    "total_supply = getTotalSupplyTimeSerie(freq=freq)\n",
    "\n",
    "print(total_supply)"
   ]
  },
  {
   "cell_type": "code",
   "execution_count": 125,
   "metadata": {},
   "outputs": [
    {
     "data": {
      "text/html": [
       "<div>\n",
       "<style scoped>\n",
       "    .dataframe tbody tr th:only-of-type {\n",
       "        vertical-align: middle;\n",
       "    }\n",
       "\n",
       "    .dataframe tbody tr th {\n",
       "        vertical-align: top;\n",
       "    }\n",
       "\n",
       "    .dataframe thead th {\n",
       "        text-align: right;\n",
       "    }\n",
       "</style>\n",
       "<table border=\"1\" class=\"dataframe\">\n",
       "  <thead>\n",
       "    <tr style=\"text-align: right;\">\n",
       "      <th></th>\n",
       "      <th>total_staked</th>\n",
       "      <th>total_supply</th>\n",
       "      <th>percentage</th>\n",
       "    </tr>\n",
       "  </thead>\n",
       "  <tbody>\n",
       "    <tr>\n",
       "      <th>2021-07-31</th>\n",
       "      <td>2.189881e+06</td>\n",
       "      <td>764626704.0</td>\n",
       "      <td>0.002864</td>\n",
       "    </tr>\n",
       "    <tr>\n",
       "      <th>2021-08-31</th>\n",
       "      <td>6.362822e+06</td>\n",
       "      <td>764626704.0</td>\n",
       "      <td>0.008321</td>\n",
       "    </tr>\n",
       "    <tr>\n",
       "      <th>2021-09-30</th>\n",
       "      <td>1.089887e+07</td>\n",
       "      <td>764626704.0</td>\n",
       "      <td>0.014254</td>\n",
       "    </tr>\n",
       "    <tr>\n",
       "      <th>2021-10-31</th>\n",
       "      <td>9.697501e+06</td>\n",
       "      <td>764626704.0</td>\n",
       "      <td>0.012683</td>\n",
       "    </tr>\n",
       "    <tr>\n",
       "      <th>2021-11-30</th>\n",
       "      <td>9.635767e+06</td>\n",
       "      <td>764626704.0</td>\n",
       "      <td>0.012602</td>\n",
       "    </tr>\n",
       "    <tr>\n",
       "      <th>2021-12-31</th>\n",
       "      <td>1.022778e+07</td>\n",
       "      <td>764626704.0</td>\n",
       "      <td>0.013376</td>\n",
       "    </tr>\n",
       "    <tr>\n",
       "      <th>2022-01-31</th>\n",
       "      <td>1.105564e+07</td>\n",
       "      <td>764626704.0</td>\n",
       "      <td>0.014459</td>\n",
       "    </tr>\n",
       "    <tr>\n",
       "      <th>2022-02-28</th>\n",
       "      <td>1.165848e+07</td>\n",
       "      <td>764626704.0</td>\n",
       "      <td>0.015247</td>\n",
       "    </tr>\n",
       "    <tr>\n",
       "      <th>2022-03-31</th>\n",
       "      <td>1.198355e+07</td>\n",
       "      <td>764626704.0</td>\n",
       "      <td>0.015672</td>\n",
       "    </tr>\n",
       "    <tr>\n",
       "      <th>2022-04-30</th>\n",
       "      <td>1.223833e+07</td>\n",
       "      <td>764626704.0</td>\n",
       "      <td>0.016006</td>\n",
       "    </tr>\n",
       "    <tr>\n",
       "      <th>2022-05-31</th>\n",
       "      <td>8.206627e+06</td>\n",
       "      <td>764626704.0</td>\n",
       "      <td>0.010733</td>\n",
       "    </tr>\n",
       "    <tr>\n",
       "      <th>2022-06-30</th>\n",
       "      <td>1.045562e+07</td>\n",
       "      <td>764626704.0</td>\n",
       "      <td>0.013674</td>\n",
       "    </tr>\n",
       "    <tr>\n",
       "      <th>2022-07-31</th>\n",
       "      <td>9.565658e+06</td>\n",
       "      <td>764626704.0</td>\n",
       "      <td>0.012510</td>\n",
       "    </tr>\n",
       "    <tr>\n",
       "      <th>2022-08-31</th>\n",
       "      <td>1.330833e+07</td>\n",
       "      <td>764626704.0</td>\n",
       "      <td>0.017405</td>\n",
       "    </tr>\n",
       "    <tr>\n",
       "      <th>2022-09-30</th>\n",
       "      <td>1.431523e+07</td>\n",
       "      <td>764626704.0</td>\n",
       "      <td>0.018722</td>\n",
       "    </tr>\n",
       "    <tr>\n",
       "      <th>2022-10-31</th>\n",
       "      <td>1.476107e+07</td>\n",
       "      <td>764626704.0</td>\n",
       "      <td>0.019305</td>\n",
       "    </tr>\n",
       "    <tr>\n",
       "      <th>2022-11-30</th>\n",
       "      <td>1.402480e+07</td>\n",
       "      <td>764626704.0</td>\n",
       "      <td>0.018342</td>\n",
       "    </tr>\n",
       "    <tr>\n",
       "      <th>2022-12-31</th>\n",
       "      <td>1.411538e+07</td>\n",
       "      <td>764626704.0</td>\n",
       "      <td>0.018460</td>\n",
       "    </tr>\n",
       "    <tr>\n",
       "      <th>2023-01-31</th>\n",
       "      <td>1.149430e+07</td>\n",
       "      <td>764626704.0</td>\n",
       "      <td>0.015033</td>\n",
       "    </tr>\n",
       "    <tr>\n",
       "      <th>2023-02-28</th>\n",
       "      <td>1.441307e+07</td>\n",
       "      <td>764626704.0</td>\n",
       "      <td>0.018850</td>\n",
       "    </tr>\n",
       "    <tr>\n",
       "      <th>2023-03-31</th>\n",
       "      <td>1.057754e+07</td>\n",
       "      <td>764626704.0</td>\n",
       "      <td>0.013834</td>\n",
       "    </tr>\n",
       "    <tr>\n",
       "      <th>2023-04-30</th>\n",
       "      <td>1.138873e+07</td>\n",
       "      <td>764626704.0</td>\n",
       "      <td>0.014894</td>\n",
       "    </tr>\n",
       "    <tr>\n",
       "      <th>2023-05-31</th>\n",
       "      <td>1.495443e+07</td>\n",
       "      <td>764626704.0</td>\n",
       "      <td>0.019558</td>\n",
       "    </tr>\n",
       "    <tr>\n",
       "      <th>2023-06-30</th>\n",
       "      <td>1.387441e+07</td>\n",
       "      <td>764626704.0</td>\n",
       "      <td>0.018145</td>\n",
       "    </tr>\n",
       "    <tr>\n",
       "      <th>2023-07-31</th>\n",
       "      <td>1.258683e+07</td>\n",
       "      <td>764626704.0</td>\n",
       "      <td>0.016461</td>\n",
       "    </tr>\n",
       "    <tr>\n",
       "      <th>2023-08-31</th>\n",
       "      <td>1.420788e+07</td>\n",
       "      <td>764626704.0</td>\n",
       "      <td>0.018581</td>\n",
       "    </tr>\n",
       "    <tr>\n",
       "      <th>2023-09-30</th>\n",
       "      <td>1.517238e+07</td>\n",
       "      <td>764626704.0</td>\n",
       "      <td>0.019843</td>\n",
       "    </tr>\n",
       "    <tr>\n",
       "      <th>2023-10-31</th>\n",
       "      <td>1.579982e+07</td>\n",
       "      <td>764626704.0</td>\n",
       "      <td>0.020663</td>\n",
       "    </tr>\n",
       "    <tr>\n",
       "      <th>2023-11-30</th>\n",
       "      <td>2.265124e+07</td>\n",
       "      <td>764626704.0</td>\n",
       "      <td>0.029624</td>\n",
       "    </tr>\n",
       "    <tr>\n",
       "      <th>2023-12-31</th>\n",
       "      <td>3.290337e+07</td>\n",
       "      <td>764626704.0</td>\n",
       "      <td>0.043032</td>\n",
       "    </tr>\n",
       "    <tr>\n",
       "      <th>2024-01-31</th>\n",
       "      <td>2.337671e+07</td>\n",
       "      <td>764626704.0</td>\n",
       "      <td>0.030573</td>\n",
       "    </tr>\n",
       "    <tr>\n",
       "      <th>2024-02-29</th>\n",
       "      <td>3.263565e+07</td>\n",
       "      <td>776626704.0</td>\n",
       "      <td>0.042022</td>\n",
       "    </tr>\n",
       "  </tbody>\n",
       "</table>\n",
       "</div>"
      ],
      "text/plain": [
       "            total_staked  total_supply  percentage\n",
       "2021-07-31  2.189881e+06   764626704.0    0.002864\n",
       "2021-08-31  6.362822e+06   764626704.0    0.008321\n",
       "2021-09-30  1.089887e+07   764626704.0    0.014254\n",
       "2021-10-31  9.697501e+06   764626704.0    0.012683\n",
       "2021-11-30  9.635767e+06   764626704.0    0.012602\n",
       "2021-12-31  1.022778e+07   764626704.0    0.013376\n",
       "2022-01-31  1.105564e+07   764626704.0    0.014459\n",
       "2022-02-28  1.165848e+07   764626704.0    0.015247\n",
       "2022-03-31  1.198355e+07   764626704.0    0.015672\n",
       "2022-04-30  1.223833e+07   764626704.0    0.016006\n",
       "2022-05-31  8.206627e+06   764626704.0    0.010733\n",
       "2022-06-30  1.045562e+07   764626704.0    0.013674\n",
       "2022-07-31  9.565658e+06   764626704.0    0.012510\n",
       "2022-08-31  1.330833e+07   764626704.0    0.017405\n",
       "2022-09-30  1.431523e+07   764626704.0    0.018722\n",
       "2022-10-31  1.476107e+07   764626704.0    0.019305\n",
       "2022-11-30  1.402480e+07   764626704.0    0.018342\n",
       "2022-12-31  1.411538e+07   764626704.0    0.018460\n",
       "2023-01-31  1.149430e+07   764626704.0    0.015033\n",
       "2023-02-28  1.441307e+07   764626704.0    0.018850\n",
       "2023-03-31  1.057754e+07   764626704.0    0.013834\n",
       "2023-04-30  1.138873e+07   764626704.0    0.014894\n",
       "2023-05-31  1.495443e+07   764626704.0    0.019558\n",
       "2023-06-30  1.387441e+07   764626704.0    0.018145\n",
       "2023-07-31  1.258683e+07   764626704.0    0.016461\n",
       "2023-08-31  1.420788e+07   764626704.0    0.018581\n",
       "2023-09-30  1.517238e+07   764626704.0    0.019843\n",
       "2023-10-31  1.579982e+07   764626704.0    0.020663\n",
       "2023-11-30  2.265124e+07   764626704.0    0.029624\n",
       "2023-12-31  3.290337e+07   764626704.0    0.043032\n",
       "2024-01-31  2.337671e+07   764626704.0    0.030573\n",
       "2024-02-29  3.263565e+07   776626704.0    0.042022"
      ]
     },
     "execution_count": 125,
     "metadata": {},
     "output_type": "execute_result"
    }
   ],
   "source": [
    "pnk_staked = getTimeSeriePNKStakedPercentage('gnosis', 'M')\n",
    "pnk_staked"
   ]
  },
  {
   "cell_type": "code",
   "execution_count": 29,
   "metadata": {},
   "outputs": [
    {
     "data": {
      "text/html": [
       "<div>\n",
       "<style scoped>\n",
       "    .dataframe tbody tr th:only-of-type {\n",
       "        vertical-align: middle;\n",
       "    }\n",
       "\n",
       "    .dataframe tbody tr th {\n",
       "        vertical-align: top;\n",
       "    }\n",
       "\n",
       "    .dataframe thead th {\n",
       "        text-align: right;\n",
       "    }\n",
       "</style>\n",
       "<table border=\"1\" class=\"dataframe\">\n",
       "  <thead>\n",
       "    <tr style=\"text-align: right;\">\n",
       "      <th></th>\n",
       "      <th>total_staked</th>\n",
       "      <th>total_supply</th>\n",
       "    </tr>\n",
       "  </thead>\n",
       "  <tbody>\n",
       "    <tr>\n",
       "      <th>2021-07-31</th>\n",
       "      <td>2.189881e+06</td>\n",
       "      <td>764626704.0</td>\n",
       "    </tr>\n",
       "    <tr>\n",
       "      <th>2021-08-31</th>\n",
       "      <td>6.362822e+06</td>\n",
       "      <td>764626704.0</td>\n",
       "    </tr>\n",
       "    <tr>\n",
       "      <th>2021-09-30</th>\n",
       "      <td>1.089887e+07</td>\n",
       "      <td>764626704.0</td>\n",
       "    </tr>\n",
       "    <tr>\n",
       "      <th>2021-10-31</th>\n",
       "      <td>9.697501e+06</td>\n",
       "      <td>764626704.0</td>\n",
       "    </tr>\n",
       "    <tr>\n",
       "      <th>2021-11-30</th>\n",
       "      <td>9.635767e+06</td>\n",
       "      <td>764626704.0</td>\n",
       "    </tr>\n",
       "    <tr>\n",
       "      <th>2021-12-31</th>\n",
       "      <td>1.022778e+07</td>\n",
       "      <td>764626704.0</td>\n",
       "    </tr>\n",
       "    <tr>\n",
       "      <th>2022-01-31</th>\n",
       "      <td>1.105564e+07</td>\n",
       "      <td>764626704.0</td>\n",
       "    </tr>\n",
       "    <tr>\n",
       "      <th>2022-02-28</th>\n",
       "      <td>1.165848e+07</td>\n",
       "      <td>764626704.0</td>\n",
       "    </tr>\n",
       "    <tr>\n",
       "      <th>2022-03-31</th>\n",
       "      <td>1.198355e+07</td>\n",
       "      <td>764626704.0</td>\n",
       "    </tr>\n",
       "    <tr>\n",
       "      <th>2022-04-30</th>\n",
       "      <td>1.223833e+07</td>\n",
       "      <td>764626704.0</td>\n",
       "    </tr>\n",
       "    <tr>\n",
       "      <th>2022-05-31</th>\n",
       "      <td>8.206627e+06</td>\n",
       "      <td>764626704.0</td>\n",
       "    </tr>\n",
       "    <tr>\n",
       "      <th>2022-06-30</th>\n",
       "      <td>1.045562e+07</td>\n",
       "      <td>764626704.0</td>\n",
       "    </tr>\n",
       "    <tr>\n",
       "      <th>2022-07-31</th>\n",
       "      <td>9.565658e+06</td>\n",
       "      <td>764626704.0</td>\n",
       "    </tr>\n",
       "    <tr>\n",
       "      <th>2022-08-31</th>\n",
       "      <td>1.330833e+07</td>\n",
       "      <td>764626704.0</td>\n",
       "    </tr>\n",
       "    <tr>\n",
       "      <th>2022-09-30</th>\n",
       "      <td>1.431523e+07</td>\n",
       "      <td>764626704.0</td>\n",
       "    </tr>\n",
       "    <tr>\n",
       "      <th>2022-10-31</th>\n",
       "      <td>1.476107e+07</td>\n",
       "      <td>764626704.0</td>\n",
       "    </tr>\n",
       "    <tr>\n",
       "      <th>2022-11-30</th>\n",
       "      <td>1.402480e+07</td>\n",
       "      <td>764626704.0</td>\n",
       "    </tr>\n",
       "    <tr>\n",
       "      <th>2022-12-31</th>\n",
       "      <td>1.411538e+07</td>\n",
       "      <td>764626704.0</td>\n",
       "    </tr>\n",
       "    <tr>\n",
       "      <th>2023-01-31</th>\n",
       "      <td>1.149430e+07</td>\n",
       "      <td>764626704.0</td>\n",
       "    </tr>\n",
       "    <tr>\n",
       "      <th>2023-02-28</th>\n",
       "      <td>1.441307e+07</td>\n",
       "      <td>764626704.0</td>\n",
       "    </tr>\n",
       "    <tr>\n",
       "      <th>2023-03-31</th>\n",
       "      <td>1.057754e+07</td>\n",
       "      <td>764626704.0</td>\n",
       "    </tr>\n",
       "    <tr>\n",
       "      <th>2023-04-30</th>\n",
       "      <td>1.138873e+07</td>\n",
       "      <td>764626704.0</td>\n",
       "    </tr>\n",
       "    <tr>\n",
       "      <th>2023-05-31</th>\n",
       "      <td>1.495443e+07</td>\n",
       "      <td>764626704.0</td>\n",
       "    </tr>\n",
       "    <tr>\n",
       "      <th>2023-06-30</th>\n",
       "      <td>1.387441e+07</td>\n",
       "      <td>764626704.0</td>\n",
       "    </tr>\n",
       "    <tr>\n",
       "      <th>2023-07-31</th>\n",
       "      <td>1.258683e+07</td>\n",
       "      <td>764626704.0</td>\n",
       "    </tr>\n",
       "    <tr>\n",
       "      <th>2023-08-31</th>\n",
       "      <td>1.420788e+07</td>\n",
       "      <td>764626704.0</td>\n",
       "    </tr>\n",
       "    <tr>\n",
       "      <th>2023-09-30</th>\n",
       "      <td>1.517238e+07</td>\n",
       "      <td>764626704.0</td>\n",
       "    </tr>\n",
       "    <tr>\n",
       "      <th>2023-10-31</th>\n",
       "      <td>1.579982e+07</td>\n",
       "      <td>764626704.0</td>\n",
       "    </tr>\n",
       "    <tr>\n",
       "      <th>2023-11-30</th>\n",
       "      <td>2.265124e+07</td>\n",
       "      <td>764626704.0</td>\n",
       "    </tr>\n",
       "    <tr>\n",
       "      <th>2023-12-31</th>\n",
       "      <td>3.290337e+07</td>\n",
       "      <td>764626704.0</td>\n",
       "    </tr>\n",
       "    <tr>\n",
       "      <th>2024-01-31</th>\n",
       "      <td>2.337671e+07</td>\n",
       "      <td>764626704.0</td>\n",
       "    </tr>\n",
       "    <tr>\n",
       "      <th>2024-02-29</th>\n",
       "      <td>3.263565e+07</td>\n",
       "      <td>776626704.0</td>\n",
       "    </tr>\n",
       "  </tbody>\n",
       "</table>\n",
       "</div>"
      ],
      "text/plain": [
       "            total_staked  total_supply\n",
       "2021-07-31  2.189881e+06   764626704.0\n",
       "2021-08-31  6.362822e+06   764626704.0\n",
       "2021-09-30  1.089887e+07   764626704.0\n",
       "2021-10-31  9.697501e+06   764626704.0\n",
       "2021-11-30  9.635767e+06   764626704.0\n",
       "2021-12-31  1.022778e+07   764626704.0\n",
       "2022-01-31  1.105564e+07   764626704.0\n",
       "2022-02-28  1.165848e+07   764626704.0\n",
       "2022-03-31  1.198355e+07   764626704.0\n",
       "2022-04-30  1.223833e+07   764626704.0\n",
       "2022-05-31  8.206627e+06   764626704.0\n",
       "2022-06-30  1.045562e+07   764626704.0\n",
       "2022-07-31  9.565658e+06   764626704.0\n",
       "2022-08-31  1.330833e+07   764626704.0\n",
       "2022-09-30  1.431523e+07   764626704.0\n",
       "2022-10-31  1.476107e+07   764626704.0\n",
       "2022-11-30  1.402480e+07   764626704.0\n",
       "2022-12-31  1.411538e+07   764626704.0\n",
       "2023-01-31  1.149430e+07   764626704.0\n",
       "2023-02-28  1.441307e+07   764626704.0\n",
       "2023-03-31  1.057754e+07   764626704.0\n",
       "2023-04-30  1.138873e+07   764626704.0\n",
       "2023-05-31  1.495443e+07   764626704.0\n",
       "2023-06-30  1.387441e+07   764626704.0\n",
       "2023-07-31  1.258683e+07   764626704.0\n",
       "2023-08-31  1.420788e+07   764626704.0\n",
       "2023-09-30  1.517238e+07   764626704.0\n",
       "2023-10-31  1.579982e+07   764626704.0\n",
       "2023-11-30  2.265124e+07   764626704.0\n",
       "2023-12-31  3.290337e+07   764626704.0\n",
       "2024-01-31  2.337671e+07   764626704.0\n",
       "2024-02-29  3.263565e+07   776626704.0"
      ]
     },
     "execution_count": 29,
     "metadata": {},
     "output_type": "execute_result"
    }
   ],
   "source": [
    "from datetime import timedelta\n",
    "\n",
    "\n",
    "merged = pd.merge_asof(\n",
    "    left=pnk_staked, right=total_supply,\n",
    "    left_index=True, right_index=True,\n",
    "    tolerance=timedelta(days=2)\n",
    ")\n",
    "merged"
   ]
  },
  {
   "cell_type": "code",
   "execution_count": 11,
   "metadata": {},
   "outputs": [
    {
     "data": {
      "application/vnd.plotly.v1+json": {
       "config": {
        "plotlyServerURL": "https://plot.ly"
       },
       "data": [
        {
         "marker": {
          "color": "#7F00FF"
         },
         "name": "Ethereum",
         "offsetgroup": "a",
         "type": "scatter",
         "x": [
          "2019-03-31T00:00:00",
          "2019-04-30T00:00:00",
          "2019-05-31T00:00:00",
          "2019-06-30T00:00:00",
          "2019-07-31T00:00:00",
          "2019-08-31T00:00:00",
          "2019-09-30T00:00:00",
          "2019-10-31T00:00:00",
          "2019-11-30T00:00:00",
          "2019-12-31T00:00:00",
          "2020-01-31T00:00:00",
          "2020-02-29T00:00:00",
          "2020-03-31T00:00:00",
          "2020-04-30T00:00:00",
          "2020-05-31T00:00:00",
          "2020-06-30T00:00:00",
          "2020-07-31T00:00:00",
          "2020-08-31T00:00:00",
          "2020-09-30T00:00:00",
          "2020-10-31T00:00:00",
          "2020-11-30T00:00:00",
          "2020-12-31T00:00:00",
          "2021-01-31T00:00:00",
          "2021-02-28T00:00:00",
          "2021-03-31T00:00:00",
          "2021-04-30T00:00:00",
          "2021-05-31T00:00:00",
          "2021-06-30T00:00:00",
          "2021-07-31T00:00:00",
          "2021-08-31T00:00:00",
          "2021-09-30T00:00:00",
          "2021-10-31T00:00:00",
          "2021-11-30T00:00:00",
          "2021-12-31T00:00:00",
          "2022-01-31T00:00:00",
          "2022-02-28T00:00:00",
          "2022-03-31T00:00:00",
          "2022-04-30T00:00:00",
          "2022-05-31T00:00:00",
          "2022-06-30T00:00:00",
          "2022-07-31T00:00:00",
          "2022-08-31T00:00:00",
          "2022-09-30T00:00:00",
          "2022-10-31T00:00:00",
          "2022-11-30T00:00:00",
          "2022-12-31T00:00:00",
          "2023-01-31T00:00:00",
          "2023-02-28T00:00:00",
          "2023-03-31T00:00:00",
          "2023-04-30T00:00:00",
          "2023-05-31T00:00:00",
          "2023-06-30T00:00:00",
          "2023-07-31T00:00:00",
          "2023-08-31T00:00:00",
          "2023-09-30T00:00:00",
          "2023-10-31T00:00:00",
          "2023-11-30T00:00:00",
          "2023-12-31T00:00:00",
          "2024-01-31T00:00:00",
          "2024-02-29T00:00:00"
         ],
         "y": [
          364626704,
          364626704,
          364626704,
          364626704,
          364626704,
          364626704,
          364626704,
          364626704,
          364626704,
          364626704,
          514626704,
          564626704,
          564626704,
          564626704,
          564626704,
          764626704,
          764626704,
          764626704,
          764626704,
          764626704,
          764626704,
          764626704,
          764626704,
          764626704,
          764626704,
          764626704,
          764626704,
          764626704,
          764626704,
          764626704,
          764626704,
          764626704,
          764626704,
          764626704,
          764626704,
          764626704,
          764626704,
          764626704,
          764626704,
          764626704,
          764626704,
          764626704,
          764626704,
          764626704,
          764626704,
          764626704,
          764626704,
          764626704,
          764626704,
          764626704,
          764626704,
          764626704,
          764626704,
          764626704,
          764626704,
          764626704,
          764626704,
          764626704,
          764626704,
          776626704
         ]
        },
        {
         "marker": {
          "color": "#009BFF"
         },
         "name": "Gnosis",
         "offsetgroup": "a",
         "type": "scatter",
         "x": [
          "2021-07-31T00:00:00",
          "2021-08-31T00:00:00",
          "2021-09-30T00:00:00",
          "2021-10-31T00:00:00",
          "2021-11-30T00:00:00",
          "2021-12-31T00:00:00",
          "2022-01-31T00:00:00",
          "2022-02-28T00:00:00",
          "2022-03-31T00:00:00",
          "2022-04-30T00:00:00",
          "2022-05-31T00:00:00",
          "2022-06-30T00:00:00",
          "2022-07-31T00:00:00",
          "2022-08-31T00:00:00",
          "2022-09-30T00:00:00",
          "2022-10-31T00:00:00",
          "2022-11-30T00:00:00",
          "2022-12-31T00:00:00",
          "2023-01-31T00:00:00",
          "2023-02-28T00:00:00",
          "2023-03-31T00:00:00",
          "2023-04-30T00:00:00",
          "2023-05-31T00:00:00",
          "2023-06-30T00:00:00",
          "2023-07-31T00:00:00",
          "2023-08-31T00:00:00",
          "2023-09-30T00:00:00",
          "2023-10-31T00:00:00",
          "2023-11-30T00:00:00",
          "2023-12-31T00:00:00",
          "2024-01-31T00:00:00",
          "2024-02-29T00:00:00"
         ],
         "y": [
          729626704,
          729626704,
          729626704,
          729626704,
          729626704,
          729626704,
          729626704,
          729626704,
          729626704,
          729626704,
          729626704,
          729626704,
          729626704,
          729626704,
          729626704,
          729626704,
          729626704,
          729626704,
          729626704,
          729626704,
          729626704,
          729626704,
          729626704,
          729626704,
          729626704,
          729626704,
          729626704,
          729626704,
          729626704,
          729626704,
          729626704,
          741626704
         ]
        }
       ],
       "layout": {
        "template": {
         "data": {
          "bar": [
           {
            "error_x": {
             "color": "#2a3f5f"
            },
            "error_y": {
             "color": "#2a3f5f"
            },
            "marker": {
             "line": {
              "color": "#E5ECF6",
              "width": 0.5
             },
             "pattern": {
              "fillmode": "overlay",
              "size": 10,
              "solidity": 0.2
             }
            },
            "type": "bar"
           }
          ],
          "barpolar": [
           {
            "marker": {
             "line": {
              "color": "#E5ECF6",
              "width": 0.5
             },
             "pattern": {
              "fillmode": "overlay",
              "size": 10,
              "solidity": 0.2
             }
            },
            "type": "barpolar"
           }
          ],
          "carpet": [
           {
            "aaxis": {
             "endlinecolor": "#2a3f5f",
             "gridcolor": "white",
             "linecolor": "white",
             "minorgridcolor": "white",
             "startlinecolor": "#2a3f5f"
            },
            "baxis": {
             "endlinecolor": "#2a3f5f",
             "gridcolor": "white",
             "linecolor": "white",
             "minorgridcolor": "white",
             "startlinecolor": "#2a3f5f"
            },
            "type": "carpet"
           }
          ],
          "choropleth": [
           {
            "colorbar": {
             "outlinewidth": 0,
             "ticks": ""
            },
            "type": "choropleth"
           }
          ],
          "contour": [
           {
            "colorbar": {
             "outlinewidth": 0,
             "ticks": ""
            },
            "colorscale": [
             [
              0,
              "#0d0887"
             ],
             [
              0.1111111111111111,
              "#46039f"
             ],
             [
              0.2222222222222222,
              "#7201a8"
             ],
             [
              0.3333333333333333,
              "#9c179e"
             ],
             [
              0.4444444444444444,
              "#bd3786"
             ],
             [
              0.5555555555555556,
              "#d8576b"
             ],
             [
              0.6666666666666666,
              "#ed7953"
             ],
             [
              0.7777777777777778,
              "#fb9f3a"
             ],
             [
              0.8888888888888888,
              "#fdca26"
             ],
             [
              1,
              "#f0f921"
             ]
            ],
            "type": "contour"
           }
          ],
          "contourcarpet": [
           {
            "colorbar": {
             "outlinewidth": 0,
             "ticks": ""
            },
            "type": "contourcarpet"
           }
          ],
          "heatmap": [
           {
            "colorbar": {
             "outlinewidth": 0,
             "ticks": ""
            },
            "colorscale": [
             [
              0,
              "#0d0887"
             ],
             [
              0.1111111111111111,
              "#46039f"
             ],
             [
              0.2222222222222222,
              "#7201a8"
             ],
             [
              0.3333333333333333,
              "#9c179e"
             ],
             [
              0.4444444444444444,
              "#bd3786"
             ],
             [
              0.5555555555555556,
              "#d8576b"
             ],
             [
              0.6666666666666666,
              "#ed7953"
             ],
             [
              0.7777777777777778,
              "#fb9f3a"
             ],
             [
              0.8888888888888888,
              "#fdca26"
             ],
             [
              1,
              "#f0f921"
             ]
            ],
            "type": "heatmap"
           }
          ],
          "heatmapgl": [
           {
            "colorbar": {
             "outlinewidth": 0,
             "ticks": ""
            },
            "colorscale": [
             [
              0,
              "#0d0887"
             ],
             [
              0.1111111111111111,
              "#46039f"
             ],
             [
              0.2222222222222222,
              "#7201a8"
             ],
             [
              0.3333333333333333,
              "#9c179e"
             ],
             [
              0.4444444444444444,
              "#bd3786"
             ],
             [
              0.5555555555555556,
              "#d8576b"
             ],
             [
              0.6666666666666666,
              "#ed7953"
             ],
             [
              0.7777777777777778,
              "#fb9f3a"
             ],
             [
              0.8888888888888888,
              "#fdca26"
             ],
             [
              1,
              "#f0f921"
             ]
            ],
            "type": "heatmapgl"
           }
          ],
          "histogram": [
           {
            "marker": {
             "pattern": {
              "fillmode": "overlay",
              "size": 10,
              "solidity": 0.2
             }
            },
            "type": "histogram"
           }
          ],
          "histogram2d": [
           {
            "colorbar": {
             "outlinewidth": 0,
             "ticks": ""
            },
            "colorscale": [
             [
              0,
              "#0d0887"
             ],
             [
              0.1111111111111111,
              "#46039f"
             ],
             [
              0.2222222222222222,
              "#7201a8"
             ],
             [
              0.3333333333333333,
              "#9c179e"
             ],
             [
              0.4444444444444444,
              "#bd3786"
             ],
             [
              0.5555555555555556,
              "#d8576b"
             ],
             [
              0.6666666666666666,
              "#ed7953"
             ],
             [
              0.7777777777777778,
              "#fb9f3a"
             ],
             [
              0.8888888888888888,
              "#fdca26"
             ],
             [
              1,
              "#f0f921"
             ]
            ],
            "type": "histogram2d"
           }
          ],
          "histogram2dcontour": [
           {
            "colorbar": {
             "outlinewidth": 0,
             "ticks": ""
            },
            "colorscale": [
             [
              0,
              "#0d0887"
             ],
             [
              0.1111111111111111,
              "#46039f"
             ],
             [
              0.2222222222222222,
              "#7201a8"
             ],
             [
              0.3333333333333333,
              "#9c179e"
             ],
             [
              0.4444444444444444,
              "#bd3786"
             ],
             [
              0.5555555555555556,
              "#d8576b"
             ],
             [
              0.6666666666666666,
              "#ed7953"
             ],
             [
              0.7777777777777778,
              "#fb9f3a"
             ],
             [
              0.8888888888888888,
              "#fdca26"
             ],
             [
              1,
              "#f0f921"
             ]
            ],
            "type": "histogram2dcontour"
           }
          ],
          "mesh3d": [
           {
            "colorbar": {
             "outlinewidth": 0,
             "ticks": ""
            },
            "type": "mesh3d"
           }
          ],
          "parcoords": [
           {
            "line": {
             "colorbar": {
              "outlinewidth": 0,
              "ticks": ""
             }
            },
            "type": "parcoords"
           }
          ],
          "pie": [
           {
            "automargin": true,
            "type": "pie"
           }
          ],
          "scatter": [
           {
            "fillpattern": {
             "fillmode": "overlay",
             "size": 10,
             "solidity": 0.2
            },
            "type": "scatter"
           }
          ],
          "scatter3d": [
           {
            "line": {
             "colorbar": {
              "outlinewidth": 0,
              "ticks": ""
             }
            },
            "marker": {
             "colorbar": {
              "outlinewidth": 0,
              "ticks": ""
             }
            },
            "type": "scatter3d"
           }
          ],
          "scattercarpet": [
           {
            "marker": {
             "colorbar": {
              "outlinewidth": 0,
              "ticks": ""
             }
            },
            "type": "scattercarpet"
           }
          ],
          "scattergeo": [
           {
            "marker": {
             "colorbar": {
              "outlinewidth": 0,
              "ticks": ""
             }
            },
            "type": "scattergeo"
           }
          ],
          "scattergl": [
           {
            "marker": {
             "colorbar": {
              "outlinewidth": 0,
              "ticks": ""
             }
            },
            "type": "scattergl"
           }
          ],
          "scattermapbox": [
           {
            "marker": {
             "colorbar": {
              "outlinewidth": 0,
              "ticks": ""
             }
            },
            "type": "scattermapbox"
           }
          ],
          "scatterpolar": [
           {
            "marker": {
             "colorbar": {
              "outlinewidth": 0,
              "ticks": ""
             }
            },
            "type": "scatterpolar"
           }
          ],
          "scatterpolargl": [
           {
            "marker": {
             "colorbar": {
              "outlinewidth": 0,
              "ticks": ""
             }
            },
            "type": "scatterpolargl"
           }
          ],
          "scatterternary": [
           {
            "marker": {
             "colorbar": {
              "outlinewidth": 0,
              "ticks": ""
             }
            },
            "type": "scatterternary"
           }
          ],
          "surface": [
           {
            "colorbar": {
             "outlinewidth": 0,
             "ticks": ""
            },
            "colorscale": [
             [
              0,
              "#0d0887"
             ],
             [
              0.1111111111111111,
              "#46039f"
             ],
             [
              0.2222222222222222,
              "#7201a8"
             ],
             [
              0.3333333333333333,
              "#9c179e"
             ],
             [
              0.4444444444444444,
              "#bd3786"
             ],
             [
              0.5555555555555556,
              "#d8576b"
             ],
             [
              0.6666666666666666,
              "#ed7953"
             ],
             [
              0.7777777777777778,
              "#fb9f3a"
             ],
             [
              0.8888888888888888,
              "#fdca26"
             ],
             [
              1,
              "#f0f921"
             ]
            ],
            "type": "surface"
           }
          ],
          "table": [
           {
            "cells": {
             "fill": {
              "color": "#EBF0F8"
             },
             "line": {
              "color": "white"
             }
            },
            "header": {
             "fill": {
              "color": "#C8D4E3"
             },
             "line": {
              "color": "white"
             }
            },
            "type": "table"
           }
          ]
         },
         "layout": {
          "annotationdefaults": {
           "arrowcolor": "#2a3f5f",
           "arrowhead": 0,
           "arrowwidth": 1
          },
          "autotypenumbers": "strict",
          "coloraxis": {
           "colorbar": {
            "outlinewidth": 0,
            "ticks": ""
           }
          },
          "colorscale": {
           "diverging": [
            [
             0,
             "#8e0152"
            ],
            [
             0.1,
             "#c51b7d"
            ],
            [
             0.2,
             "#de77ae"
            ],
            [
             0.3,
             "#f1b6da"
            ],
            [
             0.4,
             "#fde0ef"
            ],
            [
             0.5,
             "#f7f7f7"
            ],
            [
             0.6,
             "#e6f5d0"
            ],
            [
             0.7,
             "#b8e186"
            ],
            [
             0.8,
             "#7fbc41"
            ],
            [
             0.9,
             "#4d9221"
            ],
            [
             1,
             "#276419"
            ]
           ],
           "sequential": [
            [
             0,
             "#0d0887"
            ],
            [
             0.1111111111111111,
             "#46039f"
            ],
            [
             0.2222222222222222,
             "#7201a8"
            ],
            [
             0.3333333333333333,
             "#9c179e"
            ],
            [
             0.4444444444444444,
             "#bd3786"
            ],
            [
             0.5555555555555556,
             "#d8576b"
            ],
            [
             0.6666666666666666,
             "#ed7953"
            ],
            [
             0.7777777777777778,
             "#fb9f3a"
            ],
            [
             0.8888888888888888,
             "#fdca26"
            ],
            [
             1,
             "#f0f921"
            ]
           ],
           "sequentialminus": [
            [
             0,
             "#0d0887"
            ],
            [
             0.1111111111111111,
             "#46039f"
            ],
            [
             0.2222222222222222,
             "#7201a8"
            ],
            [
             0.3333333333333333,
             "#9c179e"
            ],
            [
             0.4444444444444444,
             "#bd3786"
            ],
            [
             0.5555555555555556,
             "#d8576b"
            ],
            [
             0.6666666666666666,
             "#ed7953"
            ],
            [
             0.7777777777777778,
             "#fb9f3a"
            ],
            [
             0.8888888888888888,
             "#fdca26"
            ],
            [
             1,
             "#f0f921"
            ]
           ]
          },
          "colorway": [
           "#636efa",
           "#EF553B",
           "#00cc96",
           "#ab63fa",
           "#FFA15A",
           "#19d3f3",
           "#FF6692",
           "#B6E880",
           "#FF97FF",
           "#FECB52"
          ],
          "font": {
           "color": "#2a3f5f"
          },
          "geo": {
           "bgcolor": "white",
           "lakecolor": "white",
           "landcolor": "#E5ECF6",
           "showlakes": true,
           "showland": true,
           "subunitcolor": "white"
          },
          "hoverlabel": {
           "align": "left"
          },
          "hovermode": "closest",
          "mapbox": {
           "style": "light"
          },
          "paper_bgcolor": "white",
          "plot_bgcolor": "#E5ECF6",
          "polar": {
           "angularaxis": {
            "gridcolor": "white",
            "linecolor": "white",
            "ticks": ""
           },
           "bgcolor": "#E5ECF6",
           "radialaxis": {
            "gridcolor": "white",
            "linecolor": "white",
            "ticks": ""
           }
          },
          "scene": {
           "xaxis": {
            "backgroundcolor": "#E5ECF6",
            "gridcolor": "white",
            "gridwidth": 2,
            "linecolor": "white",
            "showbackground": true,
            "ticks": "",
            "zerolinecolor": "white"
           },
           "yaxis": {
            "backgroundcolor": "#E5ECF6",
            "gridcolor": "white",
            "gridwidth": 2,
            "linecolor": "white",
            "showbackground": true,
            "ticks": "",
            "zerolinecolor": "white"
           },
           "zaxis": {
            "backgroundcolor": "#E5ECF6",
            "gridcolor": "white",
            "gridwidth": 2,
            "linecolor": "white",
            "showbackground": true,
            "ticks": "",
            "zerolinecolor": "white"
           }
          },
          "shapedefaults": {
           "line": {
            "color": "#2a3f5f"
           }
          },
          "ternary": {
           "aaxis": {
            "gridcolor": "white",
            "linecolor": "white",
            "ticks": ""
           },
           "baxis": {
            "gridcolor": "white",
            "linecolor": "white",
            "ticks": ""
           },
           "bgcolor": "#E5ECF6",
           "caxis": {
            "gridcolor": "white",
            "linecolor": "white",
            "ticks": ""
           }
          },
          "title": {
           "x": 0.05
          },
          "xaxis": {
           "automargin": true,
           "gridcolor": "white",
           "linecolor": "white",
           "ticks": "",
           "title": {
            "standoff": 15
           },
           "zerolinecolor": "white",
           "zerolinewidth": 2
          },
          "yaxis": {
           "automargin": true,
           "gridcolor": "white",
           "linecolor": "white",
           "ticks": "",
           "title": {
            "standoff": 15
           },
           "zerolinecolor": "white",
           "zerolinewidth": 2
          }
         }
        },
        "title": {
         "text": "Total Supply"
        },
        "xaxis": {
         "showgrid": false
        },
        "yaxis": {
         "showgrid": false
        }
       }
      }
     },
     "metadata": {},
     "output_type": "display_data"
    }
   ],
   "source": [
    "fig = go.Figure(data=[\n",
    "    go.Scatter(x=pnk_staked_eth.index, y=pnk_staked_eth['total_supply'], name=\"Ethereum\",\n",
    "           offsetgroup='a', marker=eth_color),\n",
    "    go.Scatter(x=pnk_staked_gno.index, y=pnk_staked_gno['total_supply'], name=\"Gnosis\",\n",
    "           offsetgroup='a', marker=gno_color),\n",
    "]\n",
    ")\n",
    "fig.update_layout(\n",
    "    xaxis=dict(showgrid=False),\n",
    "    yaxis=dict(showgrid=False),\n",
    "    title=dict(text=\"Total Supply\")\n",
    ")\n",
    "fig.show()"
   ]
  },
  {
   "cell_type": "code",
   "execution_count": null,
   "metadata": {},
   "outputs": [],
   "source": [
    "df = pd.merge_asof(\n",
    "    left=pnk_staked_eth, right=pnk_staked_gno,\n",
    "    left_index=True, right_index=True,\n",
    "    suffixes=['', '_gno'],\n",
    ")\n",
    "\n",
    "fig = go.Figure(data=[\n",
    "    go.Bar(x=df.index, y=df['percentage'] * 100,\n",
    "           name=\"Ethereum\", offsetgroup='a', marker=eth_color),\n",
    "    go.Bar(x=df.index, y=df['percentage_gno'] * 100, name=\"Gnosis\",\n",
    "           offsetgroup='a', base=df['percentage'] * 100, marker=gno_color),\n",
    "]\n",
    ")\n",
    "fig.update_layout(\n",
    "    xaxis=dict(showgrid=False),\n",
    "    yaxis=dict(showgrid=False, range=[0, 50]),\n",
    "    title=dict(text=\"% PNK staked over Total Supply\")\n",
    ")\n",
    "fig.show()"
   ]
  },
  {
   "cell_type": "markdown",
   "metadata": {},
   "source": [
    "## Jurors"
   ]
  },
  {
   "cell_type": "code",
   "execution_count": null,
   "metadata": {},
   "outputs": [],
   "source": [
    "from app.utils.utils import getTimeSerieActiveJurorsFromStakes\n",
    "\n",
    "active_jurors_eth: pd.DataFrame = getTimeSerieActiveJurorsFromStakes(df_stakes_eth)\n",
    "active_jurors_gno: pd.DataFrame = getTimeSerieActiveJurorsFromStakes(df_stakes_gno)\n"
   ]
  },
  {
   "cell_type": "code",
   "execution_count": null,
   "metadata": {},
   "outputs": [],
   "source": [
    "print(f'Active Jurors:\\nMainnet:{active_jurors_eth.iloc[-1].values[0]}\\nGnosis:{active_jurors_gno.iloc[-1].values[0]}')"
   ]
  },
  {
   "cell_type": "code",
   "execution_count": null,
   "metadata": {},
   "outputs": [],
   "source": [
    "\n",
    "\n",
    "fig = go.Figure(data=[\n",
    "    go.Scatter(x=active_jurors_eth.index, y=active_jurors_eth['active_jurors'], mode=\"lines\", name=\"Ethereum\", marker=eth_color),\n",
    "    go.Scatter(x=active_jurors_gno.index, y=active_jurors_gno['active_jurors'], mode=\"lines\", name=\"Gnosis\", marker=gno_color),\n",
    "    ]\n",
    "    )\n",
    "fig.update_layout(\n",
    "     xaxis=dict(showgrid=False), \n",
    "     yaxis=dict(showgrid=False),\n",
    "     title=dict(text=\"Daily Active Jurors\")\n",
    ")\n",
    "fig.show()\n"
   ]
  },
  {
   "cell_type": "code",
   "execution_count": null,
   "metadata": {},
   "outputs": [],
   "source": [
    "growth_eth = active_jurors_eth.diff()\n",
    "growth_gno = active_jurors_gno.diff()\n",
    "\n",
    "growth_eth = growth_eth.resample('M').sum()\n",
    "growth_gno = growth_gno.resample('M').sum()\n",
    "\n",
    "fig = go.Figure(data=[\n",
    "    go.Bar(x=growth_eth.index, y=growth_eth['active_jurors'], name=\"Ethereum\", marker=dict(color='#7F00FF')),\n",
    "    go.Bar(x=growth_gno.index, y=growth_gno['active_jurors'], name=\"Gnosis\", marker=dict(color='#009BFF')),\n",
    "    ]\n",
    "    )\n",
    "fig.update_layout(\n",
    "     xaxis=dict(showgrid=False), \n",
    "     yaxis=dict(showgrid=False),\n",
    "     title=dict(text=\"Monthly Active Jurors Growth\")\n",
    ")\n",
    "fig.add_hline(y=0)\n",
    "fig.show()\n"
   ]
  },
  {
   "cell_type": "markdown",
   "metadata": {},
   "source": [
    "## Transactions\n"
   ]
  },
  {
   "cell_type": "code",
   "execution_count": null,
   "metadata": {},
   "outputs": [],
   "source": [
    "txs_eth = kb_eth.getAllTransactions()\n",
    "txs_gno = kb_gno.getAllTransactions()\n"
   ]
  },
  {
   "cell_type": "code",
   "execution_count": null,
   "metadata": {},
   "outputs": [],
   "source": [
    "daily_txs_eth = txs_eth.resample('M', on='timestamp').count()\n",
    "daily_txs_gno = txs_gno.resample('M', on='timestamp').count()\n",
    "\n",
    "\n",
    "fig = go.Figure(data=[\n",
    "    go.Bar(x=daily_txs_eth.index, y=daily_txs_eth['tx'], name=\"Ethereum\", marker=eth_color),\n",
    "    go.Bar(x=daily_txs_gno.index, y=daily_txs_gno['tx'], name=\"Gnosis\", marker=gno_color),\n",
    "    ]\n",
    "    )\n",
    "fig.update_layout(\n",
    "     xaxis=dict(showgrid=False), \n",
    "     yaxis=dict(showgrid=False),\n",
    "     title=dict(text=\"Monthly txs in Kleros Courts\")\n",
    ")\n",
    "fig.add_hline(y=0)\n",
    "fig.show()"
   ]
  },
  {
   "cell_type": "markdown",
   "metadata": {},
   "source": [
    "## Fees paid to Jurors"
   ]
  },
  {
   "cell_type": "code",
   "execution_count": null,
   "metadata": {},
   "outputs": [],
   "source": [
    "token_txs_eth = kb_eth.getAllTransfers()\n",
    "token_txs_gno = kb_gno.getAllTransfers()"
   ]
  },
  {
   "cell_type": "code",
   "execution_count": null,
   "metadata": {},
   "outputs": [],
   "source": [
    "transfers_eth = pd.DataFrame(token_txs_eth)\n",
    "transfers_gno = pd.DataFrame(token_txs_gno)\n",
    "\n",
    "transfers_eth['timestamp'] = pd.to_datetime(transfers_eth.timestamp, unit='s')\n",
    "transfers_gno['timestamp'] = pd.to_datetime(transfers_gno.timestamp, unit='s')\n",
    "transfers_eth.sort_values('timestamp', inplace=True)\n",
    "transfers_gno.sort_values('timestamp', inplace=True)\n"
   ]
  },
  {
   "cell_type": "code",
   "execution_count": null,
   "metadata": {},
   "outputs": [],
   "source": [
    "# Get ETH price\n",
    "from app.utils.oracles import CoinGecko\n",
    "from datetime import datetime, timedelta\n",
    "\n",
    "days_before = (datetime.now() - transfers_eth.timestamp.min()).days\n",
    "eth_price = CoinGecko().getETHhistoricPrice(days_before)\n",
    "eth_price = pd.DataFrame(eth_price, columns=['timestamp', 'price'])\n",
    "eth_price['timestamp'] = pd.to_datetime(eth_price['timestamp'], unit='ms')\n"
   ]
  },
  {
   "cell_type": "code",
   "execution_count": null,
   "metadata": {},
   "outputs": [],
   "source": [
    "\n",
    "transfers_eth_price = pd.merge_asof(\n",
    "    left=transfers_eth, right=eth_price,\n",
    "    on='timestamp', direction='forward', tolerance=timedelta(hours=23)\n",
    "    )\n",
    "transfers_eth_price['ETHAmount_usd'] = transfers_eth_price['ETHAmount'] * transfers_eth_price['price']"
   ]
  },
  {
   "cell_type": "code",
   "execution_count": null,
   "metadata": {},
   "outputs": [],
   "source": [
    "\n",
    "transfers_eth_resampled = transfers_eth_price.resample('M', on='timestamp')['ETHAmount_usd'].sum()\n",
    "transfers_gno_resampled = transfers_gno.resample('M', on='timestamp')['ETHAmount'].sum()"
   ]
  },
  {
   "cell_type": "code",
   "execution_count": null,
   "metadata": {},
   "outputs": [],
   "source": [
    "fig = go.Figure(data=[\n",
    "    go.Bar(x=transfers_eth_resampled.index, y=transfers_eth_resampled, name=\"Ethereum\", marker=eth_color),\n",
    "    go.Bar(x=transfers_gno_resampled.index, y=transfers_gno_resampled, name=\"Gnosis\", marker=gno_color),\n",
    "    ]\n",
    "    )\n",
    "fig.update_layout(\n",
    "     xaxis=dict(showgrid=False), \n",
    "     yaxis=dict(showgrid=False),\n",
    "     title=dict(text=\"Monthly Fees payed to jurors [USD]\")\n",
    ")\n",
    "fig.add_hline(y=0)\n",
    "fig.show()\n",
    "\n",
    "\n",
    "fig = go.Figure(data=[\n",
    "    go.Scatter(x=transfers_eth_resampled.index, y=transfers_eth_resampled.cumsum(), name=\"Ethereum\", mode='lines', marker=eth_color),\n",
    "    go.Scatter(x=transfers_gno_resampled.index, y=transfers_gno_resampled.cumsum(), name=\"Gnosis\", mode='lines', marker=gno_color),\n",
    "    ]\n",
    "    )\n",
    "fig.update_layout(\n",
    "     xaxis=dict(showgrid=False), \n",
    "     yaxis=dict(showgrid=False),\n",
    "     title=dict(text=\"Cumulative Fees payed to jurors [USD]\")\n",
    ")\n",
    "fig.add_hline(y=0)\n",
    "fig.show()"
   ]
  },
  {
   "cell_type": "code",
   "execution_count": null,
   "metadata": {},
   "outputs": [],
   "source": [
    "jurors_eth = pd.DataFrame(kb_eth.getAllJurors())\n",
    "jurors_gno = pd.DataFrame(kb_gno.getAllJurors())"
   ]
  },
  {
   "cell_type": "code",
   "execution_count": null,
   "metadata": {},
   "outputs": [],
   "source": [
    "jurors_eth = jurors_eth[jurors_eth.ethRewards > 0][['totalStaked', 'id', 'ethRewards', 'numberOfDisputesAsJuror']]\n",
    "jurors_gno = jurors_gno[jurors_gno.ethRewards > 0][['totalStaked', 'id', 'ethRewards', 'numberOfDisputesAsJuror']]\n"
   ]
  },
  {
   "cell_type": "code",
   "execution_count": null,
   "metadata": {},
   "outputs": [],
   "source": [
    "# Experiment, need to check if Gini is well calculated and what's the best way to manage the weights.\n",
    "\n",
    "# from app.utils.utils import gini\n",
    "\n",
    "\n",
    "# gini_eth = gini(jurors_eth['ethRewards'], jurors_eth['totalStaked'])\n",
    "# gini_gno = gini(jurors_gno['ethRewards'], jurors_gno['totalStaked'])\n",
    "\n",
    "# print(f'Gini Ethereum Court: {gini_eth}\\nGini Gnosis Court: {gini_gno}')"
   ]
  },
  {
   "cell_type": "code",
   "execution_count": null,
   "metadata": {},
   "outputs": [],
   "source": [
    "from app.utils.utils import getActiveJurorsFromStakes\n",
    "\n",
    "\n",
    "jurors_eth = getActiveJurorsFromStakes(df_stakes_eth)\n",
    "jurors_gno = getActiveJurorsFromStakes(df_stakes_gno)\n",
    "jurors_eth.reset_index(inplace=True)\n",
    "jurors_gno.reset_index(inplace=True)\n",
    "jurors = pd.concat([jurors_eth, jurors_gno],axis=0)\n",
    "jurors = jurors[jurors['newTotalStake'] > 10000]\n",
    "\n",
    "jurors.drop_duplicates(subset='address', inplace=True)\n",
    "jurors.reset_index(inplace=True, drop=True)\n",
    "jurors.to_csv('lists/active_jurors_gt_10k.csv')"
   ]
  },
  {
   "cell_type": "markdown",
   "metadata": {},
   "source": [
    "## Disputes"
   ]
  },
  {
   "cell_type": "code",
   "execution_count": null,
   "metadata": {},
   "outputs": [],
   "source": [
    "# Disputes opened\n",
    "all_disputes_eth = kb_eth.getAllDisputes()\n",
    "all_disputes_gno = kb_gno.getAllDisputes()\n",
    "\n",
    "df_disputes_eth = pd.DataFrame(all_disputes_eth)\n",
    "df_disputes_gno = pd.DataFrame(all_disputes_gno)\n",
    "df_disputes_eth['startTime'] = pd.to_datetime(df_disputes_eth['startTime'], unit='s')\n",
    "df_disputes_gno['startTime'] = pd.to_datetime(df_disputes_gno['startTime'], unit='s')\n",
    "df_disputes_eth.sort_values('startTime', ascending=True, inplace=True)\n",
    "df_disputes_gno.sort_values('startTime', ascending=True, inplace=True)\n"
   ]
  },
  {
   "cell_type": "code",
   "execution_count": null,
   "metadata": {},
   "outputs": [],
   "source": [
    "disputes_resampled_eth = df_disputes_eth[['id', 'startTime']].resample('M', on='startTime').count()\n",
    "disputes_resampled_gno = df_disputes_gno[['id', 'startTime']].resample('M', on='startTime').count()\n",
    "\n",
    "fig = go.Figure(data=[\n",
    "    go.Bar(x=disputes_resampled_eth.index, y=disputes_resampled_eth.id, name=\"Ethereum\", marker=eth_color),\n",
    "    go.Bar(x=disputes_resampled_gno.index, y=disputes_resampled_gno.id, name=\"Gnosis\",  marker=gno_color),\n",
    "    ]\n",
    "    )\n",
    "fig.update_layout(\n",
    "     xaxis=dict(showgrid=False), \n",
    "     yaxis=dict(showgrid=False),\n",
    "     title=dict(text=\"Monthly Disputes Creation\")\n",
    ")\n",
    "fig.add_hline(y=0)\n",
    "fig.show()"
   ]
  }
 ],
 "metadata": {
  "kernelspec": {
   "display_name": ".venv",
   "language": "python",
   "name": "python3"
  },
  "language_info": {
   "codemirror_mode": {
    "name": "ipython",
    "version": 3
   },
   "file_extension": ".py",
   "mimetype": "text/x-python",
   "name": "python",
   "nbconvert_exporter": "python",
   "pygments_lexer": "ipython3",
   "version": "3.8.18"
  },
  "voila": {
   "theme": "dark"
  }
 },
 "nbformat": 4,
 "nbformat_minor": 2
}
