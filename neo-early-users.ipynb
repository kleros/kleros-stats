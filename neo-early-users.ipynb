{
 "cells": [
  {
   "cell_type": "markdown",
   "metadata": {},
   "source": [
    "# Generator of Address for Kleros NEO\n",
    "This notebook will generate the list of addresses that can participate in Kleros Neo (in Arbitrum)\n",
    "To be in the whitelist you should meet any of this 2 requirements:\n",
    "1. Has staked at least 1 PNK in Mainnet or Gnosis.\n",
    "2. Currently Registered in PoH (those who has registered but with a non-active profile   are out).\n",
    "\n",
    "The snapshot to filter these wallets is at Thursday, March 3, 2024 16:36 UTC (timestamp: 1709483770)"
   ]
  },
  {
   "cell_type": "code",
   "execution_count": 1,
   "metadata": {},
   "outputs": [],
   "source": [
    "import csv\n",
    "\n",
    "from app.utils.subgraph import KlerosBoardSubgraph, PoHSubgrpah"
   ]
  },
  {
   "cell_type": "code",
   "execution_count": 11,
   "metadata": {},
   "outputs": [],
   "source": [
    "from typing import Set\n",
    "\n",
    "\n",
    "def set_to_csv(data: Set, filename: str):\n",
    "    with open('lists/' + filename, 'w', newline='\\n') as file:\n",
    "        wr = csv.writer(file, quoting=csv.QUOTE_NONE)\n",
    "        for item in sorted(data):\n",
    "            wr.writerow([item])"
   ]
  },
  {
   "cell_type": "markdown",
   "metadata": {},
   "source": [
    "## Kleros Jurors\n",
    "In this section we are going to get the list of all the jurors no matter if they have a stake now or not."
   ]
  },
  {
   "cell_type": "code",
   "execution_count": 2,
   "metadata": {},
   "outputs": [],
   "source": [
    "kb_eth = KlerosBoardSubgraph('mainnet')\n",
    "kb_gno = KlerosBoardSubgraph('mainnet')\n",
    "\n",
    "# Get the list of all the StakeSet events for both chains\n",
    "allStakes_eth = kb_eth.getAllStakeSets()\n",
    "allStakes_gno = kb_eth.getAllStakeSets()\n",
    "\n",
    "# generate a set with all the addresses in the events.\n",
    "# Must to be a set to remove duplicates.\n",
    "jurors_set = set(\n",
    "    [stake['address'] for stake in allStakes_eth]\n",
    "    + [stake['address'] for stake in allStakes_gno]\n",
    ")"
   ]
  },
  {
   "cell_type": "code",
   "execution_count": 12,
   "metadata": {},
   "outputs": [
    {
     "name": "stdout",
     "output_type": "stream",
     "text": [
      "There are 2191 jurors in the set\n"
     ]
    }
   ],
   "source": [
    "print(f'There are {len(jurors_set)} jurors in the set')\n",
    "\n",
    "# export list to csv\n",
    "set_to_csv(jurors_set, 'v1-jurors.csv')"
   ]
  },
  {
   "cell_type": "markdown",
   "metadata": {},
   "source": [
    "# Poh Profiles\n",
    "Get the list of PoH profiles that are active at date March 13th (meaning submissionTime bigger than today - 2years = 1646282170)\n"
   ]
  },
  {
   "cell_type": "code",
   "execution_count": 6,
   "metadata": {},
   "outputs": [],
   "source": [
    "poh = PoHSubgrpah()\n",
    "submissions = poh.getAllSubmissions(1646282170)\n",
    "profiles_set = set([submission['id'] for submission in submissions])"
   ]
  },
  {
   "cell_type": "code",
   "execution_count": 7,
   "metadata": {},
   "outputs": [
    {
     "name": "stdout",
     "output_type": "stream",
     "text": [
      "There are 1452 profiles in the set\n"
     ]
    }
   ],
   "source": [
    "print(f'There are {len(profiles_set)} profiles in the set')\n",
    "\n",
    "# export list to csv\n",
    "with open('lists/poh-profiles.csv', 'w', newline='\\n') as file:\n",
    "     wr = csv.writer(file, quoting=csv.QUOTE_NONE)\n",
    "     wr.writerow(sorted(jurors_set))"
   ]
  },
  {
   "cell_type": "markdown",
   "metadata": {},
   "source": [
    "# NEO list\n",
    "Then we merge both sets in order to get the full list of participants in the Kleros v2NEO Court"
   ]
  },
  {
   "cell_type": "code",
   "execution_count": 9,
   "metadata": {},
   "outputs": [],
   "source": [
    "v2neo_set = jurors_set.union(profiles_set)"
   ]
  },
  {
   "cell_type": "code",
   "execution_count": 10,
   "metadata": {},
   "outputs": [
    {
     "name": "stdout",
     "output_type": "stream",
     "text": [
      "There are 3633 profiles in the set\n"
     ]
    }
   ],
   "source": [
    "print(f'There are {len(v2neo_set)} profiles in the set')\n",
    "\n",
    "# export list to csv\n",
    "with open('lists/v2-neo-early-users.csv', 'w', newline='\\n') as file:\n",
    "     wr = csv.writer(file, quoting=csv.QUOTE_NONE)\n",
    "     wr.writerow(sorted(v2neo_set))"
   ]
  }
 ],
 "metadata": {
  "kernelspec": {
   "display_name": ".venv",
   "language": "python",
   "name": "python3"
  },
  "language_info": {
   "codemirror_mode": {
    "name": "ipython",
    "version": 3
   },
   "file_extension": ".py",
   "mimetype": "text/x-python",
   "name": "python",
   "nbconvert_exporter": "python",
   "pygments_lexer": "ipython3",
   "version": "3.8.18"
  }
 },
 "nbformat": 4,
 "nbformat_minor": 2
}
