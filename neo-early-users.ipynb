{
 "cells": [
  {
   "cell_type": "markdown",
   "metadata": {},
   "source": [
    "# Generator of Address for Kleros NEO\n",
    "This notebook will generate the list of addresses that can participate in Kleros Neo (in Arbitrum)\n",
    "To be in the whitelist you should meet any of this 2 requirements:\n",
    "1. Has staked at least 1 PNK in Mainnet or Gnosis.\n",
    "2. Currently Registered in PoH (those who has registered but with a non-active profile   are out).\n",
    "3. Have participated in the Testnet tests of Court v2\n",
    "\n",
    "The snapshot to filter these wallets is at Thursday, March 3, 2024 4:36:10 UTC (timestamp: 1709440570)"
   ]
  },
  {
   "cell_type": "code",
   "execution_count": 32,
   "metadata": {},
   "outputs": [],
   "source": [
    "import csv\n",
    "\n",
    "from app.utils.subgraph import KlerosBoardSubgraph, PoHSubgrpah"
   ]
  },
  {
   "cell_type": "code",
   "execution_count": 33,
   "metadata": {},
   "outputs": [],
   "source": [
    "snapshot_timestamp = 1709440570"
   ]
  },
  {
   "cell_type": "code",
   "execution_count": 34,
   "metadata": {},
   "outputs": [],
   "source": [
    "from typing import Set\n",
    "\n",
    "\n",
    "def set_to_csv(data: Set, filename: str):\n",
    "    with open('lists/' + filename, 'w', newline='\\n') as file:\n",
    "        wr = csv.writer(file, quoting=csv.QUOTE_NONE, lineterminator=',\\n')\n",
    "        for item in sorted(data):\n",
    "            wr.writerow([item])"
   ]
  },
  {
   "cell_type": "markdown",
   "metadata": {},
   "source": [
    "## Kleros Jurors\n",
    "In this section we are going to get the list of all the jurors no matter if they have a stake now or not."
   ]
  },
  {
   "cell_type": "code",
   "execution_count": 35,
   "metadata": {},
   "outputs": [
    {
     "name": "stdout",
     "output_type": "stream",
     "text": [
      "There are 2190 jurors in mainnet the set and 221 in the gnosis set.\n"
     ]
    }
   ],
   "source": [
    "kb_eth = KlerosBoardSubgraph('mainnet')\n",
    "kb_gno = KlerosBoardSubgraph('gnosis')\n",
    "\n",
    "# Get the list of all the StakeSet events for both chains\n",
    "allStakes_eth = kb_eth.getAllStakeSets()\n",
    "allStakes_gno = kb_gno.getAllStakeSets()\n",
    "\n",
    "# generate a set with all the addresses in the events.\n",
    "# Must to be a set to remove duplicates.\n",
    "jurors_eth_set = set(\n",
    "    [stake['address'] for stake in allStakes_eth if stake['timestamp'] <= snapshot_timestamp]\n",
    ")\n",
    "jurors_gno_set = set(\n",
    "    [stake['address'] for stake in allStakes_gno if stake['timestamp'] <= snapshot_timestamp]\n",
    ")\n",
    "print(f'There are {len(jurors_eth_set)} jurors in mainnet the set and {len(jurors_gno_set)} in the gnosis set.')\n"
   ]
  },
  {
   "cell_type": "code",
   "execution_count": 36,
   "metadata": {},
   "outputs": [
    {
     "name": "stdout",
     "output_type": "stream",
     "text": [
      "There are 2306 jurors in the set considering Ethereum and Gnosis\n"
     ]
    }
   ],
   "source": [
    "jurors_set = jurors_eth_set.union(jurors_gno_set)\n",
    "print(f'There are {len(jurors_set)} jurors in the set considering Ethereum and Gnosis')\n",
    "# export list to csv\n",
    "set_to_csv(jurors_set, 'v1-jurors.csv')"
   ]
  },
  {
   "cell_type": "markdown",
   "metadata": {},
   "source": [
    "# Poh Profiles\n",
    "Get the list of PoH profiles that are active at date March 13th (meaning submissionTime bigger than today - 2years = 1646282170)\n"
   ]
  },
  {
   "cell_type": "code",
   "execution_count": 37,
   "metadata": {},
   "outputs": [],
   "source": [
    "poh = PoHSubgrpah()\n",
    "submissionTime = 1646282170  # snapshot timestamp - 2 years\n",
    "submissions = poh.getAllSubmissions(submissionTime)\n",
    "profiles_set = set([submission['id'] for submission in submissions])"
   ]
  },
  {
   "cell_type": "code",
   "execution_count": 38,
   "metadata": {},
   "outputs": [
    {
     "name": "stdout",
     "output_type": "stream",
     "text": [
      "There are 1452 profiles in the set\n"
     ]
    }
   ],
   "source": [
    "print(f'There are {len(profiles_set)} profiles in the set')\n",
    "\n",
    "# export list to csv\n",
    "set_to_csv(profiles_set, 'poh-profiles.csv')"
   ]
  },
  {
   "cell_type": "markdown",
   "metadata": {},
   "source": [
    "# V2 List"
   ]
  },
  {
   "cell_type": "code",
   "execution_count": 39,
   "metadata": {},
   "outputs": [
    {
     "name": "stdout",
     "output_type": "stream",
     "text": [
      "There are 161 jurors in the v2 testnet set\n"
     ]
    }
   ],
   "source": [
    "v2_jurors_set = set()\n",
    "with open('lists/v2-neo-early-users-from-v2-testnets.csv', newline='') as csvfile:\n",
    "    juror_reader = csv.reader(csvfile)\n",
    "    for v2_juror in list(juror_reader):\n",
    "        v2_jurors_set.add(v2_juror[0])  # Due to the trailing comma, we need to keep just the first element\n",
    "\n",
    "print(f'There are {len(v2_jurors_set)} jurors in the v2 testnet set')\n"
   ]
  },
  {
   "cell_type": "markdown",
   "metadata": {},
   "source": [
    "# NEO list\n",
    "Then we merge the three sets in order to get the full list of participants in the Kleros v2NEO Court"
   ]
  },
  {
   "cell_type": "code",
   "execution_count": 40,
   "metadata": {},
   "outputs": [],
   "source": [
    "v2neo_set = jurors_set.union(profiles_set).union(v2_jurors_set)"
   ]
  },
  {
   "cell_type": "code",
   "execution_count": 41,
   "metadata": {},
   "outputs": [
    {
     "name": "stdout",
     "output_type": "stream",
     "text": [
      "There are 3859 profiles in the set\n"
     ]
    }
   ],
   "source": [
    "print(f'There are {len(v2neo_set)} profiles in the set')\n",
    "\n",
    "# export list to csv\n",
    "set_to_csv(v2neo_set, 'v2-neo-early-users-final.csv')"
   ]
  }
 ],
 "metadata": {
  "kernelspec": {
   "display_name": ".venv",
   "language": "python",
   "name": "python3"
  },
  "language_info": {
   "codemirror_mode": {
    "name": "ipython",
    "version": 3
   },
   "file_extension": ".py",
   "mimetype": "text/x-python",
   "name": "python",
   "nbconvert_exporter": "python",
   "pygments_lexer": "ipython3",
   "version": "3.8.18"
  }
 },
 "nbformat": 4,
 "nbformat_minor": 2
}
